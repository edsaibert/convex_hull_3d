{
 "cells": [
  {
   "cell_type": "code",
   "execution_count": null,
   "id": "c23ef426",
   "metadata": {},
   "outputs": [],
   "source": [
    "%matplotlib widget \n",
    "import matplotlib.pyplot as plt\n",
    "from mpl_toolkits.mplot3d import Axes3D\n",
    "from mpl_toolkits.mplot3d.art3d import Poly3DCollection\n",
    "import numpy as np\n",
    "\n",
    "vertices = []\n",
    "half_edges = []\n",
    "faces = []"
   ]
  },
  {
   "cell_type": "code",
   "execution_count": null,
   "id": "a9920a37",
   "metadata": {},
   "outputs": [],
   "source": [
    "\n",
    "class Vertex:\n",
    "    def __init__(self, x, y, z):\n",
    "        self.x = x\n",
    "        self.y = y\n",
    "        self.z = z\n",
    "\n",
    "class HalfEdge:\n",
    "    def __init__(self, origin, face, next, prev, twin):\n",
    "        self.origin = origin\n",
    "        self.face = face\n",
    "        self.twin = twin\n",
    "        self.next = next\n",
    "        self.prev = prev\n",
    "\n",
    "class Face:\n",
    "    def __init__(self, half_edge):\n",
    "        self.half_edge = half_edge"
   ]
  },
  {
   "cell_type": "code",
   "execution_count": null,
   "id": "469d01ea",
   "metadata": {},
   "outputs": [],
   "source": [
    "\n",
    "def read_points_from_file():\n",
    "    filename = \"../out.txt\" \n",
    "    with open(filename, \"r\") as f:\n",
    "        lines = f.read().splitlines()\n",
    "    it = iter(lines)\n",
    "    sizes = next(it).split()\n",
    "    verticesSize = int(sizes[0])\n",
    "    halfEdgesSize = int(sizes[1]) * 2\n",
    "    FacesSize = int(sizes[2])\n",
    "\n",
    "    # Read vertices\n",
    "    for _ in range(verticesSize):\n",
    "        x, y, z = map(int, next(it).split())\n",
    "        vertices.append(Vertex(x, y, z))\n",
    "\n",
    "    # Read faces\n",
    "    for _ in range(FacesSize):\n",
    "        half_edge_index = int(next(it))\n",
    "        faces.append(Face(half_edge_index - 1))\n",
    "\n",
    "    # Read half-edges\n",
    "    for _ in range(halfEdgesSize):\n",
    "        origin, twin, face, next_idx, prev = map(int, next(it).split())\n",
    "        half_edges.append(HalfEdge(origin - 1, face - 1, next_idx - 1, prev - 1, twin - 1))"
   ]
  },
  {
   "cell_type": "code",
   "execution_count": null,
   "id": "14b70f2d",
   "metadata": {},
   "outputs": [],
   "source": [
    "\n",
    "def plot_convex_hull():\n",
    "    # plot points and edges\n",
    "    fig = plt.figure()\n",
    "    ax = fig.add_subplot(111, projection='3d')\n",
    "    ax.set_title('Convex Hull Visualization')\n",
    "    ax.set_xlabel('X-axis')\n",
    "    ax.set_ylabel('Y-axis')\n",
    "    ax.set_zlabel('Z-axis')\n",
    "\n",
    "    # Plot vertices\n",
    "    xs = [v.x for v in vertices]\n",
    "    ys = [v.y for v in vertices]\n",
    "    zs = [v.z for v in vertices]\n",
    "    ax.scatter(xs, ys, zs, color='b', label='Vertices')\n",
    "    ax.legend()\n",
    "    # Plot edges\n",
    "    for he in half_edges:\n",
    "        origin_idx = he.origin\n",
    "        next_idx = half_edges[he.next].origin if he.next != -1 else None\n",
    "        if next_idx is not None:\n",
    "            origin = vertices[origin_idx]\n",
    "            next_vertex = vertices[next_idx]\n",
    "            ax.plot([origin.x, next_vertex.x], [origin.y, next_vertex.y], [origin.z, next_vertex.z], color='r')\n",
    "\n",
    "    # Plot faces\n",
    "    for face in faces:\n",
    "        he_idx = face.half_edge\n",
    "        vertices_on_face = []\n",
    "        start_idx = he_idx\n",
    "        while True:\n",
    "            he = half_edges[he_idx]\n",
    "            vertices_on_face.append(vertices[he.origin])\n",
    "            he_idx = he.next\n",
    "            if he_idx == start_idx:\n",
    "                break\n",
    "        # Create a polygon for the face\n",
    "        poly3d = [[(v.x, v.y, v.z) for v in vertices_on_face]]\n",
    "        ax.add_collection3d(Poly3DCollection(poly3d, alpha=0.1, color='g')) \n",
    "\n",
    "    # plt.savefig(\"convex_hull.png\")\n",
    "    plt.show()"
   ]
  },
  {
   "cell_type": "code",
   "execution_count": null,
   "id": "faecafa1",
   "metadata": {},
   "outputs": [],
   "source": [
    "read_points_from_file()\n",
    "plot_convex_hull()"
   ]
  }
 ],
 "metadata": {
  "kernelspec": {
   "display_name": ".env",
   "language": "python",
   "name": "python3"
  },
  "language_info": {
   "codemirror_mode": {
    "name": "ipython",
    "version": 3
   },
   "file_extension": ".py",
   "mimetype": "text/x-python",
   "name": "python",
   "nbconvert_exporter": "python",
   "pygments_lexer": "ipython3",
   "version": "3.13.3"
  }
 },
 "nbformat": 4,
 "nbformat_minor": 5
}
